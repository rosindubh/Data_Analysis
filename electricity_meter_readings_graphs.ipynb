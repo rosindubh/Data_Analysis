{
 "cells": [
  {
   "cell_type": "markdown",
   "metadata": {},
   "source": [
    "### Electricity Meter Readings\n",
    "### Please check file is up to date\n",
    "###     '/home/phil/Documents/electricity_meter_readings.csv',\n"
   ]
  },
  {
   "cell_type": "code",
   "execution_count": 1,
   "metadata": {},
   "outputs": [],
   "source": [
    "import numpy as np\n",
    "import pandas as pd\n",
    "import matplotlib.pyplot as plot\n",
    "import numpy as np\n",
    "import pandas as pd\n",
    "\n",
    "readings = pd.read_csv(\n",
    "    '/home/phil/Documents/electricity_meter_readings.csv',\n",
    "    parse_dates=['DATE'])"
   ]
  },
  {
   "cell_type": "code",
   "execution_count": 15,
   "metadata": {
    "scrolled": false
   },
   "outputs": [
    {
     "data": {
      "text/html": [
       "<div>\n",
       "<style scoped>\n",
       "    .dataframe tbody tr th:only-of-type {\n",
       "        vertical-align: middle;\n",
       "    }\n",
       "\n",
       "    .dataframe tbody tr th {\n",
       "        vertical-align: top;\n",
       "    }\n",
       "\n",
       "    .dataframe thead th {\n",
       "        text-align: right;\n",
       "    }\n",
       "</style>\n",
       "<table border=\"1\" class=\"dataframe\">\n",
       "  <thead>\n",
       "    <tr style=\"text-align: right;\">\n",
       "      <th></th>\n",
       "      <th>DATE</th>\n",
       "      <th>AM</th>\n",
       "      <th>MORNING</th>\n",
       "      <th>PM</th>\n",
       "      <th>EVENING</th>\n",
       "      <th>DAY</th>\n",
       "      <th>NIGHT</th>\n",
       "      <th>24 HOURS</th>\n",
       "    </tr>\n",
       "  </thead>\n",
       "  <tbody>\n",
       "    <tr>\n",
       "      <th>0</th>\n",
       "      <td>2021-06-22</td>\n",
       "      <td>07:00</td>\n",
       "      <td>72146</td>\n",
       "      <td>19:00</td>\n",
       "      <td>72150.0</td>\n",
       "      <td>4.0</td>\n",
       "      <td>3.0</td>\n",
       "      <td>7.0</td>\n",
       "    </tr>\n",
       "    <tr>\n",
       "      <th>1</th>\n",
       "      <td>2021-06-23</td>\n",
       "      <td>07:00</td>\n",
       "      <td>72153</td>\n",
       "      <td>19:00</td>\n",
       "      <td>72156.0</td>\n",
       "      <td>3.0</td>\n",
       "      <td>1.0</td>\n",
       "      <td>4.0</td>\n",
       "    </tr>\n",
       "    <tr>\n",
       "      <th>2</th>\n",
       "      <td>2021-06-24</td>\n",
       "      <td>07:00</td>\n",
       "      <td>72157</td>\n",
       "      <td>19:00</td>\n",
       "      <td>72163.0</td>\n",
       "      <td>6.0</td>\n",
       "      <td>3.0</td>\n",
       "      <td>9.0</td>\n",
       "    </tr>\n",
       "    <tr>\n",
       "      <th>3</th>\n",
       "      <td>2021-06-25</td>\n",
       "      <td>07:00</td>\n",
       "      <td>72166</td>\n",
       "      <td>19:00</td>\n",
       "      <td>72171.0</td>\n",
       "      <td>5.0</td>\n",
       "      <td>2.0</td>\n",
       "      <td>7.0</td>\n",
       "    </tr>\n",
       "    <tr>\n",
       "      <th>4</th>\n",
       "      <td>2021-06-26</td>\n",
       "      <td>07:00</td>\n",
       "      <td>72173</td>\n",
       "      <td>19:00</td>\n",
       "      <td>72177.0</td>\n",
       "      <td>4.0</td>\n",
       "      <td>2.0</td>\n",
       "      <td>6.0</td>\n",
       "    </tr>\n",
       "  </tbody>\n",
       "</table>\n",
       "</div>"
      ],
      "text/plain": [
       "        DATE     AM  MORNING     PM  EVENING  DAY  NIGHT  24 HOURS\n",
       "0 2021-06-22  07:00    72146  19:00  72150.0  4.0    3.0       7.0\n",
       "1 2021-06-23  07:00    72153  19:00  72156.0  3.0    1.0       4.0\n",
       "2 2021-06-24  07:00    72157  19:00  72163.0  6.0    3.0       9.0\n",
       "3 2021-06-25  07:00    72166  19:00  72171.0  5.0    2.0       7.0\n",
       "4 2021-06-26  07:00    72173  19:00  72177.0  4.0    2.0       6.0"
      ]
     },
     "execution_count": 15,
     "metadata": {},
     "output_type": "execute_result"
    }
   ],
   "source": [
    "readings.head()"
   ]
  },
  {
   "cell_type": "markdown",
   "metadata": {},
   "source": [
    "# Graph showing use from 07:00 to 19:00"
   ]
  },
  {
   "cell_type": "code",
   "execution_count": 10,
   "metadata": {
    "scrolled": true
   },
   "outputs": [
    {
     "data": {
      "image/png": "[encoded data removed]",
      "text/plain": [
       "<Figure size 432x288 with 1 Axes>"
      ]
     },
     "metadata": {
      "needs_background": "light"
     },
     "output_type": "display_data"
    }
   ],
   "source": [
    "# produce a bar graph of day electricity useage\n",
    "\n",
    "days = readings['DAY']\n",
    "plot.bar(range(len(days)), days, align='center', alpha=1)\n",
    "plot.xticks(range(len(days)))\n",
    "plot.ylabel('KW/h')\n",
    "plot.title('07:00 - 19:00')\n",
    "plot.show()\n",
    "day_avg = days.mean\n",
    "#print('Average for each day', avg)"
   ]
  },
  {
   "cell_type": "markdown",
   "metadata": {},
   "source": [
    "# Graph showing use from 19:00 to 07:00"
   ]
  },
  {
   "cell_type": "code",
   "execution_count": 9,
   "metadata": {},
   "outputs": [
    {
     "data": {
      "image/png": "[encoded data removed]",
      "text/plain": [
       "<Figure size 432x288 with 1 Axes>"
      ]
     },
     "metadata": {
      "needs_background": "light"
     },
     "output_type": "display_data"
    }
   ],
   "source": [
    "# produce a bar graph of night electricity useage\n",
    "\n",
    "days = readings['NIGHT']\n",
    "plot.bar(range(len(days)), days, align='center', alpha=1)\n",
    "plot.xticks(range(len(days)))\n",
    "plot.ylabel('KW/h')\n",
    "plot.title('19:00 - 07:00')\n",
    "plot.show()\n",
    "night_avg = days.mean\n"
   ]
  },
  {
   "cell_type": "markdown",
   "metadata": {},
   "source": [
    "# Graph showing 24 hour use"
   ]
  },
  {
   "cell_type": "code",
   "execution_count": 5,
   "metadata": {
    "scrolled": true
   },
   "outputs": [
    {
     "data": {
      "image/png": "[encoded data removed]",
      "text/plain": [
       "<Figure size 432x288 with 1 Axes>"
      ]
     },
     "metadata": {
      "needs_background": "light"
     },
     "output_type": "display_data"
    }
   ],
   "source": [
    "# produce a bar graph of 24 hour electricity useage\n",
    "\n",
    "days = readings['24 HOURS']\n",
    "dates = readings['DATE']\n",
    "plot.bar(range(len(days)), days, align='center', alpha=1)\n",
    "plot.xticks(range(len(days)))\n",
    "plot.ylabel('KW/h')\n",
    "plot.title('24 Hours')\n",
    "plot.show()\n",
    "dates\n",
    "full_day_avg = days.mean\n"
   ]
  },
  {
   "cell_type": "markdown",
   "metadata": {},
   "source": [
    "### Print average results"
   ]
  },
  {
   "cell_type": "code",
   "execution_count": 6,
   "metadata": {},
   "outputs": [
    {
     "name": "stdout",
     "output_type": "stream",
     "text": [
      "Average use for each day        4.333333333333333 kWh\n",
      "Average use for each night      2.1666666666666665 kWh\n",
      "Average use for each 24 hours   6.5 kWh\n"
     ]
    }
   ],
   "source": [
    "print('Average use for each day       ', day_avg(), 'kWh')\n",
    "print('Average use for each night     ', night_avg(), 'kWh')\n",
    "print('Average use for each 24 hours  ', full_day_avg(), 'kWh')\n",
    "\n"
   ]
  },
  {
   "cell_type": "code",
   "execution_count": 12,
   "metadata": {},
   "outputs": [
    {
     "data": {
      "text/html": [
       "<div>\n",
       "<style scoped>\n",
       "    .dataframe tbody tr th:only-of-type {\n",
       "        vertical-align: middle;\n",
       "    }\n",
       "\n",
       "    .dataframe tbody tr th {\n",
       "        vertical-align: top;\n",
       "    }\n",
       "\n",
       "    .dataframe thead th {\n",
       "        text-align: right;\n",
       "    }\n",
       "</style>\n",
       "<table border=\"1\" class=\"dataframe\">\n",
       "  <thead>\n",
       "    <tr style=\"text-align: right;\">\n",
       "      <th></th>\n",
       "      <th>MORNING</th>\n",
       "      <th>EVENING</th>\n",
       "      <th>DAY</th>\n",
       "      <th>NIGHT</th>\n",
       "      <th>24 HOURS</th>\n",
       "    </tr>\n",
       "  </thead>\n",
       "  <tbody>\n",
       "    <tr>\n",
       "      <th>count</th>\n",
       "      <td>7.000000</td>\n",
       "      <td>6.000000</td>\n",
       "      <td>6.000000</td>\n",
       "      <td>6.000000</td>\n",
       "      <td>6.000000</td>\n",
       "    </tr>\n",
       "    <tr>\n",
       "      <th>mean</th>\n",
       "      <td>72165.571429</td>\n",
       "      <td>72166.666667</td>\n",
       "      <td>4.333333</td>\n",
       "      <td>2.166667</td>\n",
       "      <td>6.500000</td>\n",
       "    </tr>\n",
       "    <tr>\n",
       "      <th>std</th>\n",
       "      <td>14.304511</td>\n",
       "      <td>12.628011</td>\n",
       "      <td>1.032796</td>\n",
       "      <td>0.752773</td>\n",
       "      <td>1.643168</td>\n",
       "    </tr>\n",
       "    <tr>\n",
       "      <th>min</th>\n",
       "      <td>72146.000000</td>\n",
       "      <td>72150.000000</td>\n",
       "      <td>3.000000</td>\n",
       "      <td>1.000000</td>\n",
       "      <td>4.000000</td>\n",
       "    </tr>\n",
       "    <tr>\n",
       "      <th>25%</th>\n",
       "      <td>72155.000000</td>\n",
       "      <td>72157.750000</td>\n",
       "      <td>4.000000</td>\n",
       "      <td>2.000000</td>\n",
       "      <td>6.000000</td>\n",
       "    </tr>\n",
       "    <tr>\n",
       "      <th>50%</th>\n",
       "      <td>72166.000000</td>\n",
       "      <td>72167.000000</td>\n",
       "      <td>4.000000</td>\n",
       "      <td>2.000000</td>\n",
       "      <td>6.500000</td>\n",
       "    </tr>\n",
       "    <tr>\n",
       "      <th>75%</th>\n",
       "      <td>72176.000000</td>\n",
       "      <td>72175.500000</td>\n",
       "      <td>4.750000</td>\n",
       "      <td>2.750000</td>\n",
       "      <td>7.000000</td>\n",
       "    </tr>\n",
       "    <tr>\n",
       "      <th>max</th>\n",
       "      <td>72185.000000</td>\n",
       "      <td>72183.000000</td>\n",
       "      <td>6.000000</td>\n",
       "      <td>3.000000</td>\n",
       "      <td>9.000000</td>\n",
       "    </tr>\n",
       "  </tbody>\n",
       "</table>\n",
       "</div>"
      ],
      "text/plain": [
       "            MORNING       EVENING       DAY     NIGHT  24 HOURS\n",
       "count      7.000000      6.000000  6.000000  6.000000  6.000000\n",
       "mean   72165.571429  72166.666667  4.333333  2.166667  6.500000\n",
       "std       14.304511     12.628011  1.032796  0.752773  1.643168\n",
       "min    72146.000000  72150.000000  3.000000  1.000000  4.000000\n",
       "25%    72155.000000  72157.750000  4.000000  2.000000  6.000000\n",
       "50%    72166.000000  72167.000000  4.000000  2.000000  6.500000\n",
       "75%    72176.000000  72175.500000  4.750000  2.750000  7.000000\n",
       "max    72185.000000  72183.000000  6.000000  3.000000  9.000000"
      ]
     },
     "execution_count": 12,
     "metadata": {},
     "output_type": "execute_result"
    }
   ],
   "source": [
    "readings.describe()"
   ]
  }
 ],
 "metadata": {
  "kernelspec": {
   "display_name": "Python 3",
   "language": "python",
   "name": "python3"
  },
  "language_info": {
   "codemirror_mode": {
    "name": "ipython",
    "version": 3
   },
   "file_extension": ".py",
   "mimetype": "text/x-python",
   "name": "python",
   "nbconvert_exporter": "python",
   "pygments_lexer": "ipython3",
   "version": "3.8.5"
  }
 },
 "nbformat": 4,
 "nbformat_minor": 4
}
