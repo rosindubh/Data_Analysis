{
 "cells": [
  {
   "cell_type": "markdown",
   "metadata": {},
   "source": [
    "### Calculating my electric bill."
   ]
  },
  {
   "cell_type": "code",
   "execution_count": 1,
   "metadata": {},
   "outputs": [],
   "source": [
    "# import libraries\n",
    "import numpy as np\n",
    "import pandas as pd\n",
    "from os import system"
   ]
  },
  {
   "cell_type": "markdown",
   "metadata": {},
   "source": [
    "### First thing is to clear the screen, this is the function to do that."
   ]
  },
  {
   "cell_type": "code",
   "execution_count": 2,
   "metadata": {},
   "outputs": [],
   "source": [
    "# clear screen\n",
    "def clear():\n",
    "    system('clear')"
   ]
  },
  {
   "cell_type": "code",
   "execution_count": 3,
   "metadata": {},
   "outputs": [],
   "source": [
    "clear()"
   ]
  },
  {
   "cell_type": "markdown",
   "metadata": {},
   "source": [
    "### Now set up all the functions to be used to collect data from user"
   ]
  },
  {
   "cell_type": "code",
   "execution_count": 4,
   "metadata": {},
   "outputs": [],
   "source": [
    "#get starting meter\n",
    "def start():\n",
    "    try:\n",
    "        start_meter = int(input('Enter start meter: '))\n",
    "        print('Start meter is',start_meter, 'is this correct?')\n",
    "        check = input()\n",
    "        if check == 'n':\n",
    "            start()\n",
    "        else:\n",
    "            return start_meter\n",
    "    except ValueError:\n",
    "        print('The value you have entered is not recognised!!!')\n",
    "        print('Please try again')\n",
    "        input('Hit ENTER to continue...')\n",
    "        clear()\n",
    "        start()\n",
    "\n",
    "# get end meter\n",
    "def end():\n",
    "    try:\n",
    "        end_meter = int(input('Enter end meter: '))\n",
    "        print('Ending meter is', end_meter, 'is this correct?')\n",
    "        check = input()\n",
    "        if check == 'n':\n",
    "            end()\n",
    "        else:\n",
    "            return end_meter\n",
    "    except ValueError:\n",
    "        print('The value you have entered is not recognised!!!')\n",
    "        print('Please try again')\n",
    "        input('Hit ENTER to continue...')\n",
    "        clear()\n",
    "        end()\n",
    "\n",
    "# get days since last reading\n",
    "def number_of_days():\n",
    "    try:\n",
    "        days = int(input('Enter number of days since last bill: '))\n",
    "        print('Number of days since last reading is', days, 'is this correct?')\n",
    "        check = input()\n",
    "        if check == 'n':\n",
    "            number_of_days()\n",
    "        else:\n",
    "            return days\n",
    "    except ValueError:\n",
    "        print('The value you have entered is not recognised!!!')\n",
    "        print('Please try again')\n",
    "        input('Hit ENTER to continue...')\n",
    "        clear()\n",
    "        number_of_days()\n",
    "\n",
    "# get cost per kWh\n",
    "def kwh_cost():\n",
    "    try:\n",
    "        cost_per_kwh = float(input('Enter the cost per kWh in pence: '))\n",
    "        print('Cost per kwh is', cost_per_kwh, 'is this correct?')\n",
    "        check = input()\n",
    "        if check == 'n':\n",
    "            kwh_cost()\n",
    "        else:\n",
    "            return cost_per_kwh\n",
    "    except ValueError:\n",
    "        print('The value you have entered is not recognised!!!')\n",
    "        print('Please try again')\n",
    "        input('Hit ENTER to continue...')\n",
    "        clear()\n",
    "        kwh_cost()\n",
    "\n",
    "# get standing charge cost per day\n",
    "def std_chg_per_day():\n",
    "    try:\n",
    "        standing_charge = float(input('Enter standing charge cost per day in pence: '))\n",
    "        print('Standing charge cost per day is', standing_charge, 'is this correct?')\n",
    "        check = input()\n",
    "        if check == 'n':\n",
    "            std_chg_per_day()\n",
    "        else:\n",
    "            return standing_charge\n",
    "    except ValueError:\n",
    "        print('The value you have entered is not recognised!!!')\n",
    "        print('Please try again')\n",
    "        input('Hit ENTER to continue...')\n",
    "        clear()\n",
    "        std_chg_per_day()"
   ]
  },
  {
   "cell_type": "markdown",
   "metadata": {},
   "source": [
    "### This is the main program"
   ]
  },
  {
   "cell_type": "code",
   "execution_count": 5,
   "metadata": {},
   "outputs": [
    {
     "name": "stdout",
     "output_type": "stream",
     "text": [
      "Enter start meter: 72146\n",
      "Start meter is 72146 is this correct?\n",
      "y\n",
      "Enter end meter: 72183\n",
      "Ending meter is 72183 is this correct?\n",
      "y\n",
      "Enter number of days since last bill: 6\n",
      "Number of days since last reading is 6 is this correct?\n",
      "y\n",
      "Enter the cost per kWh in pence: 18.31\n",
      "Cost per kwh is 18.31 is this correct?\n",
      "y\n",
      "Enter standing charge cost per day in pence: 24.39\n",
      "Standing charge cost per day is 24.39 is this correct?\n",
      "y\n"
     ]
    }
   ],
   "source": [
    "# main\n",
    "\n",
    "start_meter = start()\n",
    "clear()\n",
    "end_meter = end()\n",
    "clear()\n",
    "number_of_days = number_of_days()\n",
    "clear()\n",
    "kwh_cost = kwh_cost()\n",
    "clear()\n",
    "std_chg_per_day = std_chg_per_day()\n",
    "clear()"
   ]
  },
  {
   "cell_type": "markdown",
   "metadata": {},
   "source": [
    "### Next, calculate the values need for the printout"
   ]
  },
  {
   "cell_type": "code",
   "execution_count": 6,
   "metadata": {},
   "outputs": [],
   "source": [
    "# calculate values for print out\n",
    "energy_used = (end_meter - start_meter)*kwh_cost/100\n",
    "standing_charge = number_of_days * std_chg_per_day / 100\n",
    "sub_total = energy_used + standing_charge\n",
    "vat = sub_total / 100 * 5\n",
    "total_electric_charges = sub_total / 100 * 105\n",
    "avg_kwh_per_day = (end_meter - start_meter) / number_of_days"
   ]
  },
  {
   "cell_type": "markdown",
   "metadata": {},
   "source": [
    "### Finally print out the results"
   ]
  },
  {
   "cell_type": "code",
   "execution_count": 10,
   "metadata": {},
   "outputs": [
    {
     "name": "stdout",
     "output_type": "stream",
     "text": [
      "Start Meter 72146\n",
      "End Meter   72183\n"
     ]
    }
   ],
   "source": []
  },
  {
   "cell_type": "code",
   "execution_count": 14,
   "metadata": {},
   "outputs": [
    {
     "name": "stdout",
     "output_type": "stream",
     "text": [
      "Start Meter 72146\n",
      "End Meter   72183\n",
      "\n",
      "Energy used 37 @ 18.31 p           £ 6.774699999999999\n",
      "Standing charge 6 @ 24.39 p        £ 1.4634\n",
      "Subtotal of charges before VAT     £ 8.2381\n",
      "VAT @ 5%                           £ 0.41190499999999997\n",
      "Total Electricity Charges          £ 8.650005\n",
      "\n",
      "\n",
      "Average kWh per day = 6.166666666666667\n",
      "\n",
      "\n",
      "\n",
      "\n"
     ]
    }
   ],
   "source": [
    "# print out values to stdout\n",
    "print('Start Meter',start_meter)\n",
    "print('End Meter  ', end_meter)\n",
    "print()\n",
    "print('Energy used', end_meter-start_meter, '@', kwh_cost, 'p           £', energy_used)\n",
    "print('Standing charge', number_of_days, '@', std_chg_per_day, 'p        £',standing_charge) \n",
    "print('Subtotal of charges before VAT     £', sub_total)\n",
    "print('VAT @ 5%                           £', vat)\n",
    "print('Total Electricity Charges          £', total_electric_charges)\n",
    "print('\\n')\n",
    "print('Average kWh per day =', avg_kwh_per_day)\n",
    "print('\\n' * 3)"
   ]
  },
  {
   "cell_type": "code",
   "execution_count": null,
   "metadata": {},
   "outputs": [],
   "source": []
  }
 ],
 "metadata": {
  "kernelspec": {
   "display_name": "Python 3",
   "language": "python",
   "name": "python3"
  },
  "language_info": {
   "codemirror_mode": {
    "name": "ipython",
    "version": 3
   },
   "file_extension": ".py",
   "mimetype": "text/x-python",
   "name": "python",
   "nbconvert_exporter": "python",
   "pygments_lexer": "ipython3",
   "version": "3.8.5"
  }
 },
 "nbformat": 4,
 "nbformat_minor": 4
}
